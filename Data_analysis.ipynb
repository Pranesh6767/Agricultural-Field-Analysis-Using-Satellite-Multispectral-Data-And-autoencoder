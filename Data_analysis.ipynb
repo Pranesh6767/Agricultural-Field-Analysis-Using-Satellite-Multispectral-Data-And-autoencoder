{
 "cells": [
  {
   "cell_type": "code",
   "execution_count": 1,
   "id": "normal-asbestos",
   "metadata": {},
   "outputs": [],
   "source": [
    "import pandas as pd\n",
    "import numpy as np\n",
    "import os"
   ]
  },
  {
   "cell_type": "code",
   "execution_count": 2,
   "id": "selective-background",
   "metadata": {},
   "outputs": [],
   "source": [
    "an_df = pd.DataFrame()"
   ]
  },
  {
   "cell_type": "code",
   "execution_count": 3,
   "id": "applicable-thumbnail",
   "metadata": {},
   "outputs": [],
   "source": [
    "avg_ndvi = []\n",
    "avg_msavi2 = []\n",
    "max_ndvi = []\n",
    "max_msavi2 = []\n",
    "datalen = []\n",
    "\n",
    "rootpath = '3_data_cleaned'\n",
    "datasheets = os.listdir(rootpath)\n",
    "for i in datasheets:\n",
    "    filepath = os.path.join(rootpath,i)\n",
    "    sdf = pd.read_csv(filepath)\n",
    "    avg_ndvi.append(np.mean(sdf['ndvi']))\n",
    "    max_ndvi.append(sdf['ndvi'].max())\n",
    "    avg_msavi2.append(np.mean(sdf['msavi2']))\n",
    "    max_msavi2.append(sdf['msavi2'].max())\n",
    "    datalen.append(len(sdf))"
   ]
  },
  {
   "cell_type": "code",
   "execution_count": 4,
   "id": "touched-basin",
   "metadata": {},
   "outputs": [
    {
     "data": {
      "text/html": [
       "<div>\n",
       "<style scoped>\n",
       "    .dataframe tbody tr th:only-of-type {\n",
       "        vertical-align: middle;\n",
       "    }\n",
       "\n",
       "    .dataframe tbody tr th {\n",
       "        vertical-align: top;\n",
       "    }\n",
       "\n",
       "    .dataframe thead th {\n",
       "        text-align: right;\n",
       "    }\n",
       "</style>\n",
       "<table border=\"1\" class=\"dataframe\">\n",
       "  <thead>\n",
       "    <tr style=\"text-align: right;\">\n",
       "      <th></th>\n",
       "      <th>avg_ndvi</th>\n",
       "      <th>avg_msavi2</th>\n",
       "      <th>max_ndvi</th>\n",
       "      <th>max_msavi2</th>\n",
       "      <th>datalen</th>\n",
       "    </tr>\n",
       "  </thead>\n",
       "  <tbody>\n",
       "    <tr>\n",
       "      <th>0</th>\n",
       "      <td>0.320738</td>\n",
       "      <td>0.471711</td>\n",
       "      <td>0.691235</td>\n",
       "      <td>0.817412</td>\n",
       "      <td>61</td>\n",
       "    </tr>\n",
       "    <tr>\n",
       "      <th>1</th>\n",
       "      <td>0.344232</td>\n",
       "      <td>0.491554</td>\n",
       "      <td>0.816312</td>\n",
       "      <td>0.898855</td>\n",
       "      <td>119</td>\n",
       "    </tr>\n",
       "    <tr>\n",
       "      <th>2</th>\n",
       "      <td>0.318040</td>\n",
       "      <td>0.463413</td>\n",
       "      <td>0.798425</td>\n",
       "      <td>0.887903</td>\n",
       "      <td>81</td>\n",
       "    </tr>\n",
       "    <tr>\n",
       "      <th>3</th>\n",
       "      <td>0.548939</td>\n",
       "      <td>0.683625</td>\n",
       "      <td>0.884301</td>\n",
       "      <td>0.938592</td>\n",
       "      <td>88</td>\n",
       "    </tr>\n",
       "    <tr>\n",
       "      <th>4</th>\n",
       "      <td>0.360391</td>\n",
       "      <td>0.495222</td>\n",
       "      <td>0.780476</td>\n",
       "      <td>0.876682</td>\n",
       "      <td>97</td>\n",
       "    </tr>\n",
       "  </tbody>\n",
       "</table>\n",
       "</div>"
      ],
      "text/plain": [
       "   avg_ndvi  avg_msavi2  max_ndvi  max_msavi2  datalen\n",
       "0  0.320738    0.471711  0.691235    0.817412       61\n",
       "1  0.344232    0.491554  0.816312    0.898855      119\n",
       "2  0.318040    0.463413  0.798425    0.887903       81\n",
       "3  0.548939    0.683625  0.884301    0.938592       88\n",
       "4  0.360391    0.495222  0.780476    0.876682       97"
      ]
     },
     "execution_count": 4,
     "metadata": {},
     "output_type": "execute_result"
    }
   ],
   "source": [
    "an_df['avg_ndvi'] = avg_ndvi\n",
    "an_df['avg_msavi2'] = avg_msavi2\n",
    "an_df['max_ndvi'] = max_ndvi\n",
    "an_df['max_msavi2'] = max_msavi2\n",
    "an_df['datalen'] = datalen\n",
    "an_df.head()"
   ]
  },
  {
   "cell_type": "markdown",
   "id": "drawn-offer",
   "metadata": {},
   "source": [
    "# Visualization"
   ]
  },
  {
   "cell_type": "code",
   "execution_count": 5,
   "id": "spectacular-congress",
   "metadata": {},
   "outputs": [],
   "source": [
    "import matplotlib.pyplot as plt"
   ]
  },
  {
   "cell_type": "code",
   "execution_count": 6,
   "id": "passing-passion",
   "metadata": {},
   "outputs": [
    {
     "data": {
      "image/png": "[encoded data removed]",
      "text/plain": [
       "<Figure size 432x288 with 1 Axes>"
      ]
     },
     "metadata": {
      "needs_background": "light"
     },
     "output_type": "display_data"
    }
   ],
   "source": [
    "plt.hist(an_df['avg_ndvi'])\n",
    "plt.savefig('4_data_analysis/avg_ndvi_hist.png')\n",
    "plt.show()"
   ]
  },
  {
   "cell_type": "code",
   "execution_count": 8,
   "id": "breeding-composition",
   "metadata": {},
   "outputs": [
    {
     "data": {
      "image/png": "[encoded data removed]",
      "text/plain": [
       "<Figure size 432x288 with 1 Axes>"
      ]
     },
     "metadata": {
      "needs_background": "light"
     },
     "output_type": "display_data"
    }
   ],
   "source": [
    "plt.hist(an_df['avg_msavi2'])\n",
    "plt.savefig('4_data_analysis/avg_msavi2_hist.png')\n",
    "plt.show()"
   ]
  },
  {
   "cell_type": "code",
   "execution_count": 9,
   "id": "recreational-interface",
   "metadata": {},
   "outputs": [
    {
     "data": {
      "image/png": "[encoded data removed]",
      "text/plain": [
       "<Figure size 432x288 with 1 Axes>"
      ]
     },
     "metadata": {
      "needs_background": "light"
     },
     "output_type": "display_data"
    }
   ],
   "source": [
    "plt.hist(an_df['max_ndvi'])\n",
    "plt.savefig('4_data_analysis/max_ndvi_hist.png')\n",
    "plt.show()"
   ]
  },
  {
   "cell_type": "code",
   "execution_count": 10,
   "id": "organized-bacon",
   "metadata": {},
   "outputs": [
    {
     "data": {
      "text/plain": [
       "0.9992407040773384"
      ]
     },
     "execution_count": 10,
     "metadata": {},
     "output_type": "execute_result"
    }
   ],
   "source": [
    "an_df['max_ndvi'].max()"
   ]
  },
  {
   "cell_type": "code",
   "execution_count": 11,
   "id": "satellite-calendar",
   "metadata": {},
   "outputs": [
    {
     "data": {
      "image/png": "[encoded data removed]",
      "text/plain": [
       "<Figure size 432x288 with 1 Axes>"
      ]
     },
     "metadata": {
      "needs_background": "light"
     },
     "output_type": "display_data"
    }
   ],
   "source": [
    "plt.hist(an_df['max_msavi2'])\n",
    "plt.savefig('4_data_analysis/max_msavi2_hist.png')\n",
    "plt.show()"
   ]
  },
  {
   "cell_type": "code",
   "execution_count": 12,
   "id": "handy-intensity",
   "metadata": {},
   "outputs": [
    {
     "data": {
      "text/plain": [
       "0.999620054398747"
      ]
     },
     "execution_count": 12,
     "metadata": {},
     "output_type": "execute_result"
    }
   ],
   "source": [
    "an_df['max_msavi2'].max()"
   ]
  },
  {
   "cell_type": "code",
   "execution_count": 13,
   "id": "foreign-whale",
   "metadata": {},
   "outputs": [
    {
     "data": {
      "image/png": "[encoded data removed]",
      "text/plain": [
       "<Figure size 432x288 with 1 Axes>"
      ]
     },
     "metadata": {
      "needs_background": "light"
     },
     "output_type": "display_data"
    }
   ],
   "source": [
    "plt.hist(an_df['datalen'])\n",
    "plt.savefig('4_data_analysis/datalen_hist.png')\n",
    "plt.show()"
   ]
  },
  {
   "cell_type": "code",
   "execution_count": 14,
   "id": "deluxe-completion",
   "metadata": {},
   "outputs": [
    {
     "data": {
      "text/plain": [
       "39"
      ]
     },
     "execution_count": 14,
     "metadata": {},
     "output_type": "execute_result"
    }
   ],
   "source": [
    "an_df['datalen'].min()"
   ]
  },
  {
   "cell_type": "code",
   "execution_count": 15,
   "id": "annual-average",
   "metadata": {},
   "outputs": [
    {
     "data": {
      "image/png": "[encoded data removed]",
      "text/plain": [
       "<Figure size 432x288 with 1 Axes>"
      ]
     },
     "metadata": {
      "needs_background": "light"
     },
     "output_type": "display_data"
    }
   ],
   "source": [
    "plt.scatter(an_df['avg_msavi2'],an_df['avg_ndvi'])\n",
    "plt.savefig('4_data_analysis/avgmsavi_vs_avgndvi.png')\n",
    "plt.show()"
   ]
  },
  {
   "cell_type": "code",
   "execution_count": 16,
   "id": "sonic-college",
   "metadata": {},
   "outputs": [
    {
     "data": {
      "image/png": "[encoded data removed]",
      "text/plain": [
       "<Figure size 432x288 with 1 Axes>"
      ]
     },
     "metadata": {
      "needs_background": "light"
     },
     "output_type": "display_data"
    }
   ],
   "source": [
    "plt.scatter(an_df['max_msavi2'],an_df['max_ndvi'])\n",
    "plt.savefig('4_data_analysis/maxmsavi_vs_maxndvi.png')\n",
    "plt.show()"
   ]
  },
  {
   "cell_type": "code",
   "execution_count": 17,
   "id": "suspected-virtue",
   "metadata": {},
   "outputs": [
    {
     "data": {
      "image/png": "[encoded data removed]",
      "text/plain": [
       "<Figure size 432x288 with 1 Axes>"
      ]
     },
     "metadata": {
      "needs_background": "light"
     },
     "output_type": "display_data"
    }
   ],
   "source": [
    "plt.scatter(an_df['avg_ndvi'],an_df['max_ndvi'])\n",
    "plt.savefig('4_data_analysis/avgndvi_vs_maxndvi.png')\n",
    "plt.show()"
   ]
  },
  {
   "cell_type": "code",
   "execution_count": 18,
   "id": "biblical-uncertainty",
   "metadata": {},
   "outputs": [
    {
     "data": {
      "image/png": "[encoded data removed]",
      "text/plain": [
       "<Figure size 432x288 with 1 Axes>"
      ]
     },
     "metadata": {
      "needs_background": "light"
     },
     "output_type": "display_data"
    }
   ],
   "source": [
    "plt.scatter(an_df['avg_msavi2'],an_df['max_msavi2'])\n",
    "plt.savefig('4_data_analysis/avgmsavi_vs_maxmsavi.png')\n",
    "plt.show()"
   ]
  },
  {
   "cell_type": "code",
   "execution_count": 19,
   "id": "spectacular-modern",
   "metadata": {},
   "outputs": [],
   "source": [
    "an_df.to_csv('4_data_analysis/analytics_sheet.csv')"
   ]
  },
  {
   "cell_type": "code",
   "execution_count": null,
   "id": "manual-wheat",
   "metadata": {},
   "outputs": [],
   "source": []
  }
 ],
 "metadata": {
  "kernelspec": {
   "display_name": "Python 3",
   "language": "python",
   "name": "python3"
  },
  "language_info": {
   "codemirror_mode": {
    "name": "ipython",
    "version": 3
   },
   "file_extension": ".py",
   "mimetype": "text/x-python",
   "name": "python",
   "nbconvert_exporter": "python",
   "pygments_lexer": "ipython3",
   "version": "3.8.7"
  }
 },
 "nbformat": 4,
 "nbformat_minor": 5
}
