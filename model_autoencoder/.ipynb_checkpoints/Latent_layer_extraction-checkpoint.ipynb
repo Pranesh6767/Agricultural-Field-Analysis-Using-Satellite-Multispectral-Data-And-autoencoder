{
 "cells": [
  {
   "cell_type": "code",
   "execution_count": 1,
   "id": "auburn-lawsuit",
   "metadata": {},
   "outputs": [],
   "source": [
    "from tensorflow import keras"
   ]
  },
  {
   "cell_type": "markdown",
   "id": "better-denial",
   "metadata": {},
   "source": [
    "# Loading the model"
   ]
  },
  {
   "cell_type": "code",
   "execution_count": 2,
   "id": "endless-omega",
   "metadata": {},
   "outputs": [],
   "source": [
    "model = keras.models.load_model('model_v1.h5')"
   ]
  },
  {
   "cell_type": "code",
   "execution_count": 3,
   "id": "headed-survival",
   "metadata": {},
   "outputs": [
    {
     "name": "stdout",
     "output_type": "stream",
     "text": [
      "Model: \"model_26\"\n",
      "_________________________________________________________________\n",
      "Layer (type)                 Output Shape              Param #   \n",
      "=================================================================\n",
      "input_29 (InputLayer)        [(None, 273)]             0         \n",
      "_________________________________________________________________\n",
      "dense_133 (Dense)            (None, 150)               41100     \n",
      "_________________________________________________________________\n",
      "dense_134 (Dense)            (None, 50)                7550      \n",
      "_________________________________________________________________\n",
      "Feature_latent (Dense)       (None, 10)                510       \n",
      "_________________________________________________________________\n",
      "dense_135 (Dense)            (None, 50)                550       \n",
      "_________________________________________________________________\n",
      "dense_136 (Dense)            (None, 150)               7650      \n",
      "_________________________________________________________________\n",
      "dense_137 (Dense)            (None, 273)               41223     \n",
      "=================================================================\n",
      "Total params: 98,583\n",
      "Trainable params: 98,583\n",
      "Non-trainable params: 0\n",
      "_________________________________________________________________\n"
     ]
    }
   ],
   "source": [
    "model.summary()"
   ]
  },
  {
   "cell_type": "code",
   "execution_count": 4,
   "id": "falling-science",
   "metadata": {},
   "outputs": [],
   "source": [
    "\n",
    "layer_name = 'Feature_latent'\n",
    "intermediate_layer_model = keras.Model(inputs=model.input,\n",
    "                                       outputs=model.get_layer(layer_name).output)\n"
   ]
  },
  {
   "cell_type": "markdown",
   "id": "equivalent-duncan",
   "metadata": {},
   "source": [
    "# Encoding for single datapoint"
   ]
  },
  {
   "cell_type": "code",
   "execution_count": 5,
   "id": "distinguished-bench",
   "metadata": {},
   "outputs": [],
   "source": [
    "import pandas as pd\n",
    "import numpy as np"
   ]
  },
  {
   "cell_type": "code",
   "execution_count": 6,
   "id": "pending-situation",
   "metadata": {},
   "outputs": [],
   "source": [
    "df = pd.read_csv('processed_dataset.csv')"
   ]
  },
  {
   "cell_type": "code",
   "execution_count": 7,
   "id": "lucky-acoustic",
   "metadata": {},
   "outputs": [
    {
     "data": {
      "text/html": [
       "<div>\n",
       "<style scoped>\n",
       "    .dataframe tbody tr th:only-of-type {\n",
       "        vertical-align: middle;\n",
       "    }\n",
       "\n",
       "    .dataframe tbody tr th {\n",
       "        vertical-align: top;\n",
       "    }\n",
       "\n",
       "    .dataframe thead th {\n",
       "        text-align: right;\n",
       "    }\n",
       "</style>\n",
       "<table border=\"1\" class=\"dataframe\">\n",
       "  <thead>\n",
       "    <tr style=\"text-align: right;\">\n",
       "      <th></th>\n",
       "      <th>Unnamed: 0</th>\n",
       "      <th>0</th>\n",
       "      <th>1</th>\n",
       "      <th>2</th>\n",
       "      <th>3</th>\n",
       "      <th>4</th>\n",
       "      <th>5</th>\n",
       "      <th>6</th>\n",
       "      <th>7</th>\n",
       "      <th>8</th>\n",
       "      <th>...</th>\n",
       "      <th>265</th>\n",
       "      <th>266</th>\n",
       "      <th>267</th>\n",
       "      <th>268</th>\n",
       "      <th>269</th>\n",
       "      <th>270</th>\n",
       "      <th>271</th>\n",
       "      <th>272</th>\n",
       "      <th>273</th>\n",
       "      <th>274</th>\n",
       "    </tr>\n",
       "  </thead>\n",
       "  <tbody>\n",
       "    <tr>\n",
       "      <th>0</th>\n",
       "      <td>0</td>\n",
       "      <td>243.000</td>\n",
       "      <td>350.200</td>\n",
       "      <td>897.400</td>\n",
       "      <td>677.800</td>\n",
       "      <td>3712.600</td>\n",
       "      <td>2422.400</td>\n",
       "      <td>1337.000</td>\n",
       "      <td>252.800</td>\n",
       "      <td>338.800</td>\n",
       "      <td>...</td>\n",
       "      <td>2919.400</td>\n",
       "      <td>540.400</td>\n",
       "      <td>599.800</td>\n",
       "      <td>891.600</td>\n",
       "      <td>1279.400</td>\n",
       "      <td>2161.200</td>\n",
       "      <td>3015.400</td>\n",
       "      <td>2568.000</td>\n",
       "      <td>0.385535</td>\n",
       "      <td>0.546250</td>\n",
       "    </tr>\n",
       "    <tr>\n",
       "      <th>1</th>\n",
       "      <td>1</td>\n",
       "      <td>171.400</td>\n",
       "      <td>226.600</td>\n",
       "      <td>450.800</td>\n",
       "      <td>360.800</td>\n",
       "      <td>3567.600</td>\n",
       "      <td>1593.600</td>\n",
       "      <td>752.000</td>\n",
       "      <td>156.600</td>\n",
       "      <td>228.600</td>\n",
       "      <td>...</td>\n",
       "      <td>1739.600</td>\n",
       "      <td>384.000</td>\n",
       "      <td>475.800</td>\n",
       "      <td>790.000</td>\n",
       "      <td>1026.400</td>\n",
       "      <td>2397.200</td>\n",
       "      <td>2234.200</td>\n",
       "      <td>1719.400</td>\n",
       "      <td>0.520737</td>\n",
       "      <td>0.679225</td>\n",
       "    </tr>\n",
       "    <tr>\n",
       "      <th>2</th>\n",
       "      <td>2</td>\n",
       "      <td>234.000</td>\n",
       "      <td>298.000</td>\n",
       "      <td>668.000</td>\n",
       "      <td>448.000</td>\n",
       "      <td>3997.000</td>\n",
       "      <td>1864.000</td>\n",
       "      <td>953.000</td>\n",
       "      <td>136.000</td>\n",
       "      <td>221.000</td>\n",
       "      <td>...</td>\n",
       "      <td>3022.000</td>\n",
       "      <td>341.000</td>\n",
       "      <td>507.000</td>\n",
       "      <td>921.000</td>\n",
       "      <td>1405.000</td>\n",
       "      <td>2423.000</td>\n",
       "      <td>3613.000</td>\n",
       "      <td>2983.000</td>\n",
       "      <td>0.424557</td>\n",
       "      <td>0.578246</td>\n",
       "    </tr>\n",
       "    <tr>\n",
       "      <th>3</th>\n",
       "      <td>3</td>\n",
       "      <td>317.000</td>\n",
       "      <td>317.000</td>\n",
       "      <td>622.000</td>\n",
       "      <td>297.000</td>\n",
       "      <td>4837.000</td>\n",
       "      <td>2005.000</td>\n",
       "      <td>756.000</td>\n",
       "      <td>70.000</td>\n",
       "      <td>94.000</td>\n",
       "      <td>...</td>\n",
       "      <td>1225.000</td>\n",
       "      <td>231.000</td>\n",
       "      <td>317.000</td>\n",
       "      <td>595.000</td>\n",
       "      <td>612.000</td>\n",
       "      <td>2406.000</td>\n",
       "      <td>1808.000</td>\n",
       "      <td>1066.000</td>\n",
       "      <td>0.732383</td>\n",
       "      <td>0.842036</td>\n",
       "    </tr>\n",
       "    <tr>\n",
       "      <th>4</th>\n",
       "      <td>4</td>\n",
       "      <td>141.133</td>\n",
       "      <td>203.936</td>\n",
       "      <td>488.792</td>\n",
       "      <td>288.667</td>\n",
       "      <td>2341.268</td>\n",
       "      <td>1015.778</td>\n",
       "      <td>454.481</td>\n",
       "      <td>235.149</td>\n",
       "      <td>335.514</td>\n",
       "      <td>...</td>\n",
       "      <td>1226.434</td>\n",
       "      <td>399.925</td>\n",
       "      <td>521.716</td>\n",
       "      <td>851.474</td>\n",
       "      <td>788.311</td>\n",
       "      <td>1905.576</td>\n",
       "      <td>1387.545</td>\n",
       "      <td>861.357</td>\n",
       "      <td>0.571616</td>\n",
       "      <td>0.721583</td>\n",
       "    </tr>\n",
       "  </tbody>\n",
       "</table>\n",
       "<p>5 rows × 276 columns</p>\n",
       "</div>"
      ],
      "text/plain": [
       "   Unnamed: 0        0        1        2        3         4         5  \\\n",
       "0           0  243.000  350.200  897.400  677.800  3712.600  2422.400   \n",
       "1           1  171.400  226.600  450.800  360.800  3567.600  1593.600   \n",
       "2           2  234.000  298.000  668.000  448.000  3997.000  1864.000   \n",
       "3           3  317.000  317.000  622.000  297.000  4837.000  2005.000   \n",
       "4           4  141.133  203.936  488.792  288.667  2341.268  1015.778   \n",
       "\n",
       "          6        7        8  ...       265      266      267      268  \\\n",
       "0  1337.000  252.800  338.800  ...  2919.400  540.400  599.800  891.600   \n",
       "1   752.000  156.600  228.600  ...  1739.600  384.000  475.800  790.000   \n",
       "2   953.000  136.000  221.000  ...  3022.000  341.000  507.000  921.000   \n",
       "3   756.000   70.000   94.000  ...  1225.000  231.000  317.000  595.000   \n",
       "4   454.481  235.149  335.514  ...  1226.434  399.925  521.716  851.474   \n",
       "\n",
       "        269       270       271       272       273       274  \n",
       "0  1279.400  2161.200  3015.400  2568.000  0.385535  0.546250  \n",
       "1  1026.400  2397.200  2234.200  1719.400  0.520737  0.679225  \n",
       "2  1405.000  2423.000  3613.000  2983.000  0.424557  0.578246  \n",
       "3   612.000  2406.000  1808.000  1066.000  0.732383  0.842036  \n",
       "4   788.311  1905.576  1387.545   861.357  0.571616  0.721583  \n",
       "\n",
       "[5 rows x 276 columns]"
      ]
     },
     "execution_count": 7,
     "metadata": {},
     "output_type": "execute_result"
    }
   ],
   "source": [
    "df.head()"
   ]
  },
  {
   "cell_type": "code",
   "execution_count": 8,
   "id": "foreign-muscle",
   "metadata": {},
   "outputs": [],
   "source": [
    "X_data = df.drop(['Unnamed: 0','273','274'],axis=1, inplace=False)"
   ]
  },
  {
   "cell_type": "code",
   "execution_count": 9,
   "id": "accompanied-integral",
   "metadata": {},
   "outputs": [],
   "source": [
    "X_data = X_data/1000"
   ]
  },
  {
   "cell_type": "code",
   "execution_count": 10,
   "id": "outer-criterion",
   "metadata": {},
   "outputs": [
    {
     "data": {
      "text/plain": [
       "(2947, 273)"
      ]
     },
     "execution_count": 10,
     "metadata": {},
     "output_type": "execute_result"
    }
   ],
   "source": [
    "X_data.shape"
   ]
  },
  {
   "cell_type": "code",
   "execution_count": 11,
   "id": "geological-large",
   "metadata": {},
   "outputs": [],
   "source": [
    "X_data = np.array(X_data)"
   ]
  },
  {
   "cell_type": "code",
   "execution_count": 12,
   "id": "requested-patent",
   "metadata": {},
   "outputs": [
    {
     "data": {
      "text/plain": [
       "(2947, 273)"
      ]
     },
     "execution_count": 12,
     "metadata": {},
     "output_type": "execute_result"
    }
   ],
   "source": [
    "X_data.shape"
   ]
  },
  {
   "cell_type": "code",
   "execution_count": 13,
   "id": "developmental-drain",
   "metadata": {},
   "outputs": [],
   "source": [
    "X_1 = X_data[0]"
   ]
  },
  {
   "cell_type": "code",
   "execution_count": 14,
   "id": "middle-stroke",
   "metadata": {},
   "outputs": [
    {
     "data": {
      "text/plain": [
       "(273,)"
      ]
     },
     "execution_count": 14,
     "metadata": {},
     "output_type": "execute_result"
    }
   ],
   "source": [
    "X_1.shape"
   ]
  },
  {
   "cell_type": "code",
   "execution_count": 15,
   "id": "ordinary-living",
   "metadata": {},
   "outputs": [],
   "source": [
    "X_1 = np.expand_dims(X_1, axis=0)"
   ]
  },
  {
   "cell_type": "code",
   "execution_count": 16,
   "id": "blond-potter",
   "metadata": {},
   "outputs": [
    {
     "data": {
      "text/plain": [
       "(1, 273)"
      ]
     },
     "execution_count": 16,
     "metadata": {},
     "output_type": "execute_result"
    }
   ],
   "source": [
    "X_1.shape"
   ]
  },
  {
   "cell_type": "code",
   "execution_count": 17,
   "id": "mounted-sewing",
   "metadata": {},
   "outputs": [],
   "source": [
    "intermediate_output = intermediate_layer_model(X_1)"
   ]
  },
  {
   "cell_type": "code",
   "execution_count": 18,
   "id": "resistant-brisbane",
   "metadata": {},
   "outputs": [
    {
     "data": {
      "text/plain": [
       "<tf.Tensor: shape=(1, 10), dtype=float32, numpy=\n",
       "array([[ 1.3717824 ,  1.1191478 ,  2.4690793 ,  3.1649635 ,  2.75314   ,\n",
       "        -0.9286842 , -0.47839576,  1.8618125 ,  8.483896  ,  0.02696992]],\n",
       "      dtype=float32)>"
      ]
     },
     "execution_count": 18,
     "metadata": {},
     "output_type": "execute_result"
    }
   ],
   "source": [
    "intermediate_output"
   ]
  },
  {
   "cell_type": "markdown",
   "id": "neutral-producer",
   "metadata": {},
   "source": [
    "# Encoding the whole dataset"
   ]
  },
  {
   "cell_type": "code",
   "execution_count": 19,
   "id": "efficient-excess",
   "metadata": {},
   "outputs": [],
   "source": [
    "intermediate_output = intermediate_layer_model(X_data)"
   ]
  },
  {
   "cell_type": "code",
   "execution_count": 20,
   "id": "seeing-locator",
   "metadata": {},
   "outputs": [
    {
     "data": {
      "text/plain": [
       "TensorShape([2947, 10])"
      ]
     },
     "execution_count": 20,
     "metadata": {},
     "output_type": "execute_result"
    }
   ],
   "source": [
    "intermediate_output.shape"
   ]
  },
  {
   "cell_type": "code",
   "execution_count": 21,
   "id": "answering-shareware",
   "metadata": {},
   "outputs": [],
   "source": [
    "import tensorflow as tf\n",
    "intermediate_output_np = intermediate_output.numpy()"
   ]
  },
  {
   "cell_type": "code",
   "execution_count": 22,
   "id": "massive-battlefield",
   "metadata": {},
   "outputs": [
    {
     "data": {
      "text/plain": [
       "array([[ 1.3717823 ,  1.1191477 ,  2.4690788 , ...,  1.8618144 ,\n",
       "         8.483894  ,  0.02696972],\n",
       "       [ 0.69577676,  0.4719947 ,  0.8782271 , ...,  1.4433293 ,\n",
       "         5.3137383 ,  0.30663761],\n",
       "       [ 0.53508306,  0.74585783,  2.8816214 , ...,  0.3658805 ,\n",
       "         8.386508  , -0.22823203],\n",
       "       ...,\n",
       "       [ 1.1877071 , -0.4342877 ,  0.65518695, ...,  0.9251185 ,\n",
       "         2.2819278 ,  0.7056834 ],\n",
       "       [ 0.5040876 , -0.07960146, -0.36556542, ...,  0.15845701,\n",
       "         2.1693914 , -0.65187347],\n",
       "       [ 0.44544372,  0.02776576,  0.7267449 , ...,  0.5472965 ,\n",
       "         2.454513  , -1.0466843 ]], dtype=float32)"
      ]
     },
     "execution_count": 22,
     "metadata": {},
     "output_type": "execute_result"
    }
   ],
   "source": [
    "intermediate_output_np"
   ]
  },
  {
   "cell_type": "code",
   "execution_count": 23,
   "id": "classified-basement",
   "metadata": {},
   "outputs": [
    {
     "data": {
      "text/plain": [
       "(2947, 10)"
      ]
     },
     "execution_count": 23,
     "metadata": {},
     "output_type": "execute_result"
    }
   ],
   "source": [
    "intermediate_output_np.shape"
   ]
  },
  {
   "cell_type": "code",
   "execution_count": 24,
   "id": "conceptual-ivory",
   "metadata": {},
   "outputs": [],
   "source": [
    "cols = intermediate_output_np.shape[1]"
   ]
  },
  {
   "cell_type": "code",
   "execution_count": 25,
   "id": "abstract-suspension",
   "metadata": {},
   "outputs": [
    {
     "data": {
      "text/plain": [
       "10"
      ]
     },
     "execution_count": 25,
     "metadata": {},
     "output_type": "execute_result"
    }
   ],
   "source": [
    "cols"
   ]
  },
  {
   "cell_type": "code",
   "execution_count": 26,
   "id": "overhead-affair",
   "metadata": {},
   "outputs": [
    {
     "data": {
      "text/plain": [
       "2947"
      ]
     },
     "execution_count": 26,
     "metadata": {},
     "output_type": "execute_result"
    }
   ],
   "source": [
    "index_values = [i for i in range (intermediate_output_np.shape[0])]\n",
    "len(index_values)"
   ]
  },
  {
   "cell_type": "code",
   "execution_count": 27,
   "id": "careful-westminster",
   "metadata": {},
   "outputs": [
    {
     "data": {
      "text/plain": [
       "10"
      ]
     },
     "execution_count": 27,
     "metadata": {},
     "output_type": "execute_result"
    }
   ],
   "source": [
    "column_values  = [i for i in range (intermediate_output_np.shape[1])]\n",
    "len(column_values)"
   ]
  },
  {
   "cell_type": "code",
   "execution_count": 28,
   "id": "native-baghdad",
   "metadata": {},
   "outputs": [],
   "source": [
    "df_encoded = pd.DataFrame(data = intermediate_output_np, \n",
    "                  index = index_values, \n",
    "                  columns = column_values)"
   ]
  },
  {
   "cell_type": "code",
   "execution_count": 29,
   "id": "editorial-explanation",
   "metadata": {},
   "outputs": [
    {
     "data": {
      "text/html": [
       "<div>\n",
       "<style scoped>\n",
       "    .dataframe tbody tr th:only-of-type {\n",
       "        vertical-align: middle;\n",
       "    }\n",
       "\n",
       "    .dataframe tbody tr th {\n",
       "        vertical-align: top;\n",
       "    }\n",
       "\n",
       "    .dataframe thead th {\n",
       "        text-align: right;\n",
       "    }\n",
       "</style>\n",
       "<table border=\"1\" class=\"dataframe\">\n",
       "  <thead>\n",
       "    <tr style=\"text-align: right;\">\n",
       "      <th></th>\n",
       "      <th>0</th>\n",
       "      <th>1</th>\n",
       "      <th>2</th>\n",
       "      <th>3</th>\n",
       "      <th>4</th>\n",
       "      <th>5</th>\n",
       "      <th>6</th>\n",
       "      <th>7</th>\n",
       "      <th>8</th>\n",
       "      <th>9</th>\n",
       "    </tr>\n",
       "  </thead>\n",
       "  <tbody>\n",
       "    <tr>\n",
       "      <th>0</th>\n",
       "      <td>1.371782</td>\n",
       "      <td>1.119148</td>\n",
       "      <td>2.469079</td>\n",
       "      <td>3.164964</td>\n",
       "      <td>2.753141</td>\n",
       "      <td>-0.928685</td>\n",
       "      <td>-0.478396</td>\n",
       "      <td>1.861814</td>\n",
       "      <td>8.483894</td>\n",
       "      <td>0.026970</td>\n",
       "    </tr>\n",
       "    <tr>\n",
       "      <th>1</th>\n",
       "      <td>0.695777</td>\n",
       "      <td>0.471995</td>\n",
       "      <td>0.878227</td>\n",
       "      <td>2.781074</td>\n",
       "      <td>2.894665</td>\n",
       "      <td>-0.336990</td>\n",
       "      <td>0.175473</td>\n",
       "      <td>1.443329</td>\n",
       "      <td>5.313738</td>\n",
       "      <td>0.306638</td>\n",
       "    </tr>\n",
       "    <tr>\n",
       "      <th>2</th>\n",
       "      <td>0.535083</td>\n",
       "      <td>0.745858</td>\n",
       "      <td>2.881621</td>\n",
       "      <td>2.780188</td>\n",
       "      <td>2.232395</td>\n",
       "      <td>-0.426074</td>\n",
       "      <td>-0.336759</td>\n",
       "      <td>0.365880</td>\n",
       "      <td>8.386508</td>\n",
       "      <td>-0.228232</td>\n",
       "    </tr>\n",
       "    <tr>\n",
       "      <th>3</th>\n",
       "      <td>-0.026857</td>\n",
       "      <td>0.098330</td>\n",
       "      <td>1.059372</td>\n",
       "      <td>2.443299</td>\n",
       "      <td>3.532076</td>\n",
       "      <td>0.864627</td>\n",
       "      <td>-0.165695</td>\n",
       "      <td>0.146986</td>\n",
       "      <td>3.512267</td>\n",
       "      <td>0.124011</td>\n",
       "    </tr>\n",
       "    <tr>\n",
       "      <th>4</th>\n",
       "      <td>1.286062</td>\n",
       "      <td>0.822033</td>\n",
       "      <td>0.607374</td>\n",
       "      <td>2.285303</td>\n",
       "      <td>2.499143</td>\n",
       "      <td>-0.602961</td>\n",
       "      <td>-0.222075</td>\n",
       "      <td>0.405282</td>\n",
       "      <td>3.419030</td>\n",
       "      <td>-0.756155</td>\n",
       "    </tr>\n",
       "    <tr>\n",
       "      <th>...</th>\n",
       "      <td>...</td>\n",
       "      <td>...</td>\n",
       "      <td>...</td>\n",
       "      <td>...</td>\n",
       "      <td>...</td>\n",
       "      <td>...</td>\n",
       "      <td>...</td>\n",
       "      <td>...</td>\n",
       "      <td>...</td>\n",
       "      <td>...</td>\n",
       "    </tr>\n",
       "    <tr>\n",
       "      <th>2942</th>\n",
       "      <td>0.749474</td>\n",
       "      <td>-0.181962</td>\n",
       "      <td>0.440250</td>\n",
       "      <td>1.545387</td>\n",
       "      <td>3.097845</td>\n",
       "      <td>0.222938</td>\n",
       "      <td>0.091134</td>\n",
       "      <td>-0.120250</td>\n",
       "      <td>2.500812</td>\n",
       "      <td>-0.222808</td>\n",
       "    </tr>\n",
       "    <tr>\n",
       "      <th>2943</th>\n",
       "      <td>1.246725</td>\n",
       "      <td>0.072085</td>\n",
       "      <td>0.813656</td>\n",
       "      <td>1.651416</td>\n",
       "      <td>3.228261</td>\n",
       "      <td>-0.621067</td>\n",
       "      <td>-0.019703</td>\n",
       "      <td>0.594698</td>\n",
       "      <td>2.494640</td>\n",
       "      <td>-0.476267</td>\n",
       "    </tr>\n",
       "    <tr>\n",
       "      <th>2944</th>\n",
       "      <td>1.187707</td>\n",
       "      <td>-0.434288</td>\n",
       "      <td>0.655187</td>\n",
       "      <td>2.047939</td>\n",
       "      <td>2.747905</td>\n",
       "      <td>-0.557238</td>\n",
       "      <td>-0.582953</td>\n",
       "      <td>0.925119</td>\n",
       "      <td>2.281928</td>\n",
       "      <td>0.705683</td>\n",
       "    </tr>\n",
       "    <tr>\n",
       "      <th>2945</th>\n",
       "      <td>0.504088</td>\n",
       "      <td>-0.079601</td>\n",
       "      <td>-0.365565</td>\n",
       "      <td>2.642547</td>\n",
       "      <td>1.700682</td>\n",
       "      <td>-0.666713</td>\n",
       "      <td>-0.822734</td>\n",
       "      <td>0.158457</td>\n",
       "      <td>2.169391</td>\n",
       "      <td>-0.651873</td>\n",
       "    </tr>\n",
       "    <tr>\n",
       "      <th>2946</th>\n",
       "      <td>0.445444</td>\n",
       "      <td>0.027766</td>\n",
       "      <td>0.726745</td>\n",
       "      <td>3.000825</td>\n",
       "      <td>1.585884</td>\n",
       "      <td>-0.465326</td>\n",
       "      <td>0.373297</td>\n",
       "      <td>0.547297</td>\n",
       "      <td>2.454513</td>\n",
       "      <td>-1.046684</td>\n",
       "    </tr>\n",
       "  </tbody>\n",
       "</table>\n",
       "<p>2947 rows × 10 columns</p>\n",
       "</div>"
      ],
      "text/plain": [
       "             0         1         2         3         4         5         6  \\\n",
       "0     1.371782  1.119148  2.469079  3.164964  2.753141 -0.928685 -0.478396   \n",
       "1     0.695777  0.471995  0.878227  2.781074  2.894665 -0.336990  0.175473   \n",
       "2     0.535083  0.745858  2.881621  2.780188  2.232395 -0.426074 -0.336759   \n",
       "3    -0.026857  0.098330  1.059372  2.443299  3.532076  0.864627 -0.165695   \n",
       "4     1.286062  0.822033  0.607374  2.285303  2.499143 -0.602961 -0.222075   \n",
       "...        ...       ...       ...       ...       ...       ...       ...   \n",
       "2942  0.749474 -0.181962  0.440250  1.545387  3.097845  0.222938  0.091134   \n",
       "2943  1.246725  0.072085  0.813656  1.651416  3.228261 -0.621067 -0.019703   \n",
       "2944  1.187707 -0.434288  0.655187  2.047939  2.747905 -0.557238 -0.582953   \n",
       "2945  0.504088 -0.079601 -0.365565  2.642547  1.700682 -0.666713 -0.822734   \n",
       "2946  0.445444  0.027766  0.726745  3.000825  1.585884 -0.465326  0.373297   \n",
       "\n",
       "             7         8         9  \n",
       "0     1.861814  8.483894  0.026970  \n",
       "1     1.443329  5.313738  0.306638  \n",
       "2     0.365880  8.386508 -0.228232  \n",
       "3     0.146986  3.512267  0.124011  \n",
       "4     0.405282  3.419030 -0.756155  \n",
       "...        ...       ...       ...  \n",
       "2942 -0.120250  2.500812 -0.222808  \n",
       "2943  0.594698  2.494640 -0.476267  \n",
       "2944  0.925119  2.281928  0.705683  \n",
       "2945  0.158457  2.169391 -0.651873  \n",
       "2946  0.547297  2.454513 -1.046684  \n",
       "\n",
       "[2947 rows x 10 columns]"
      ]
     },
     "execution_count": 29,
     "metadata": {},
     "output_type": "execute_result"
    }
   ],
   "source": [
    "df_encoded"
   ]
  },
  {
   "cell_type": "code",
   "execution_count": 30,
   "id": "informative-student",
   "metadata": {},
   "outputs": [],
   "source": [
    "df_encoded['gt_ndvi'] = df['273']"
   ]
  },
  {
   "cell_type": "code",
   "execution_count": 31,
   "id": "elementary-climate",
   "metadata": {},
   "outputs": [],
   "source": [
    "df_encoded['gt_msavi2'] = df['274']"
   ]
  },
  {
   "cell_type": "code",
   "execution_count": 32,
   "id": "sorted-observer",
   "metadata": {},
   "outputs": [
    {
     "data": {
      "text/html": [
       "<div>\n",
       "<style scoped>\n",
       "    .dataframe tbody tr th:only-of-type {\n",
       "        vertical-align: middle;\n",
       "    }\n",
       "\n",
       "    .dataframe tbody tr th {\n",
       "        vertical-align: top;\n",
       "    }\n",
       "\n",
       "    .dataframe thead th {\n",
       "        text-align: right;\n",
       "    }\n",
       "</style>\n",
       "<table border=\"1\" class=\"dataframe\">\n",
       "  <thead>\n",
       "    <tr style=\"text-align: right;\">\n",
       "      <th></th>\n",
       "      <th>0</th>\n",
       "      <th>1</th>\n",
       "      <th>2</th>\n",
       "      <th>3</th>\n",
       "      <th>4</th>\n",
       "      <th>5</th>\n",
       "      <th>6</th>\n",
       "      <th>7</th>\n",
       "      <th>8</th>\n",
       "      <th>9</th>\n",
       "      <th>gt_ndvi</th>\n",
       "      <th>gt_msavi2</th>\n",
       "    </tr>\n",
       "  </thead>\n",
       "  <tbody>\n",
       "    <tr>\n",
       "      <th>0</th>\n",
       "      <td>1.371782</td>\n",
       "      <td>1.119148</td>\n",
       "      <td>2.469079</td>\n",
       "      <td>3.164964</td>\n",
       "      <td>2.753141</td>\n",
       "      <td>-0.928685</td>\n",
       "      <td>-0.478396</td>\n",
       "      <td>1.861814</td>\n",
       "      <td>8.483894</td>\n",
       "      <td>0.026970</td>\n",
       "      <td>0.385535</td>\n",
       "      <td>0.546250</td>\n",
       "    </tr>\n",
       "    <tr>\n",
       "      <th>1</th>\n",
       "      <td>0.695777</td>\n",
       "      <td>0.471995</td>\n",
       "      <td>0.878227</td>\n",
       "      <td>2.781074</td>\n",
       "      <td>2.894665</td>\n",
       "      <td>-0.336990</td>\n",
       "      <td>0.175473</td>\n",
       "      <td>1.443329</td>\n",
       "      <td>5.313738</td>\n",
       "      <td>0.306638</td>\n",
       "      <td>0.520737</td>\n",
       "      <td>0.679225</td>\n",
       "    </tr>\n",
       "    <tr>\n",
       "      <th>2</th>\n",
       "      <td>0.535083</td>\n",
       "      <td>0.745858</td>\n",
       "      <td>2.881621</td>\n",
       "      <td>2.780188</td>\n",
       "      <td>2.232395</td>\n",
       "      <td>-0.426074</td>\n",
       "      <td>-0.336759</td>\n",
       "      <td>0.365880</td>\n",
       "      <td>8.386508</td>\n",
       "      <td>-0.228232</td>\n",
       "      <td>0.424557</td>\n",
       "      <td>0.578246</td>\n",
       "    </tr>\n",
       "    <tr>\n",
       "      <th>3</th>\n",
       "      <td>-0.026857</td>\n",
       "      <td>0.098330</td>\n",
       "      <td>1.059372</td>\n",
       "      <td>2.443299</td>\n",
       "      <td>3.532076</td>\n",
       "      <td>0.864627</td>\n",
       "      <td>-0.165695</td>\n",
       "      <td>0.146986</td>\n",
       "      <td>3.512267</td>\n",
       "      <td>0.124011</td>\n",
       "      <td>0.732383</td>\n",
       "      <td>0.842036</td>\n",
       "    </tr>\n",
       "    <tr>\n",
       "      <th>4</th>\n",
       "      <td>1.286062</td>\n",
       "      <td>0.822033</td>\n",
       "      <td>0.607374</td>\n",
       "      <td>2.285303</td>\n",
       "      <td>2.499143</td>\n",
       "      <td>-0.602961</td>\n",
       "      <td>-0.222075</td>\n",
       "      <td>0.405282</td>\n",
       "      <td>3.419030</td>\n",
       "      <td>-0.756155</td>\n",
       "      <td>0.571616</td>\n",
       "      <td>0.721583</td>\n",
       "    </tr>\n",
       "    <tr>\n",
       "      <th>...</th>\n",
       "      <td>...</td>\n",
       "      <td>...</td>\n",
       "      <td>...</td>\n",
       "      <td>...</td>\n",
       "      <td>...</td>\n",
       "      <td>...</td>\n",
       "      <td>...</td>\n",
       "      <td>...</td>\n",
       "      <td>...</td>\n",
       "      <td>...</td>\n",
       "      <td>...</td>\n",
       "      <td>...</td>\n",
       "    </tr>\n",
       "    <tr>\n",
       "      <th>2942</th>\n",
       "      <td>0.749474</td>\n",
       "      <td>-0.181962</td>\n",
       "      <td>0.440250</td>\n",
       "      <td>1.545387</td>\n",
       "      <td>3.097845</td>\n",
       "      <td>0.222938</td>\n",
       "      <td>0.091134</td>\n",
       "      <td>-0.120250</td>\n",
       "      <td>2.500812</td>\n",
       "      <td>-0.222808</td>\n",
       "      <td>0.707826</td>\n",
       "      <td>0.825318</td>\n",
       "    </tr>\n",
       "    <tr>\n",
       "      <th>2943</th>\n",
       "      <td>1.246725</td>\n",
       "      <td>0.072085</td>\n",
       "      <td>0.813656</td>\n",
       "      <td>1.651416</td>\n",
       "      <td>3.228261</td>\n",
       "      <td>-0.621067</td>\n",
       "      <td>-0.019703</td>\n",
       "      <td>0.594698</td>\n",
       "      <td>2.494640</td>\n",
       "      <td>-0.476267</td>\n",
       "      <td>0.699463</td>\n",
       "      <td>0.820091</td>\n",
       "    </tr>\n",
       "    <tr>\n",
       "      <th>2944</th>\n",
       "      <td>1.187707</td>\n",
       "      <td>-0.434288</td>\n",
       "      <td>0.655187</td>\n",
       "      <td>2.047939</td>\n",
       "      <td>2.747905</td>\n",
       "      <td>-0.557238</td>\n",
       "      <td>-0.582953</td>\n",
       "      <td>0.925119</td>\n",
       "      <td>2.281928</td>\n",
       "      <td>0.705683</td>\n",
       "      <td>0.694561</td>\n",
       "      <td>0.817328</td>\n",
       "    </tr>\n",
       "    <tr>\n",
       "      <th>2945</th>\n",
       "      <td>0.504088</td>\n",
       "      <td>-0.079601</td>\n",
       "      <td>-0.365565</td>\n",
       "      <td>2.642547</td>\n",
       "      <td>1.700682</td>\n",
       "      <td>-0.666713</td>\n",
       "      <td>-0.822734</td>\n",
       "      <td>0.158457</td>\n",
       "      <td>2.169391</td>\n",
       "      <td>-0.651873</td>\n",
       "      <td>0.680096</td>\n",
       "      <td>0.806699</td>\n",
       "    </tr>\n",
       "    <tr>\n",
       "      <th>2946</th>\n",
       "      <td>0.445444</td>\n",
       "      <td>0.027766</td>\n",
       "      <td>0.726745</td>\n",
       "      <td>3.000825</td>\n",
       "      <td>1.585884</td>\n",
       "      <td>-0.465326</td>\n",
       "      <td>0.373297</td>\n",
       "      <td>0.547297</td>\n",
       "      <td>2.454513</td>\n",
       "      <td>-1.046684</td>\n",
       "      <td>0.678625</td>\n",
       "      <td>0.805381</td>\n",
       "    </tr>\n",
       "  </tbody>\n",
       "</table>\n",
       "<p>2947 rows × 12 columns</p>\n",
       "</div>"
      ],
      "text/plain": [
       "             0         1         2         3         4         5         6  \\\n",
       "0     1.371782  1.119148  2.469079  3.164964  2.753141 -0.928685 -0.478396   \n",
       "1     0.695777  0.471995  0.878227  2.781074  2.894665 -0.336990  0.175473   \n",
       "2     0.535083  0.745858  2.881621  2.780188  2.232395 -0.426074 -0.336759   \n",
       "3    -0.026857  0.098330  1.059372  2.443299  3.532076  0.864627 -0.165695   \n",
       "4     1.286062  0.822033  0.607374  2.285303  2.499143 -0.602961 -0.222075   \n",
       "...        ...       ...       ...       ...       ...       ...       ...   \n",
       "2942  0.749474 -0.181962  0.440250  1.545387  3.097845  0.222938  0.091134   \n",
       "2943  1.246725  0.072085  0.813656  1.651416  3.228261 -0.621067 -0.019703   \n",
       "2944  1.187707 -0.434288  0.655187  2.047939  2.747905 -0.557238 -0.582953   \n",
       "2945  0.504088 -0.079601 -0.365565  2.642547  1.700682 -0.666713 -0.822734   \n",
       "2946  0.445444  0.027766  0.726745  3.000825  1.585884 -0.465326  0.373297   \n",
       "\n",
       "             7         8         9   gt_ndvi  gt_msavi2  \n",
       "0     1.861814  8.483894  0.026970  0.385535   0.546250  \n",
       "1     1.443329  5.313738  0.306638  0.520737   0.679225  \n",
       "2     0.365880  8.386508 -0.228232  0.424557   0.578246  \n",
       "3     0.146986  3.512267  0.124011  0.732383   0.842036  \n",
       "4     0.405282  3.419030 -0.756155  0.571616   0.721583  \n",
       "...        ...       ...       ...       ...        ...  \n",
       "2942 -0.120250  2.500812 -0.222808  0.707826   0.825318  \n",
       "2943  0.594698  2.494640 -0.476267  0.699463   0.820091  \n",
       "2944  0.925119  2.281928  0.705683  0.694561   0.817328  \n",
       "2945  0.158457  2.169391 -0.651873  0.680096   0.806699  \n",
       "2946  0.547297  2.454513 -1.046684  0.678625   0.805381  \n",
       "\n",
       "[2947 rows x 12 columns]"
      ]
     },
     "execution_count": 32,
     "metadata": {},
     "output_type": "execute_result"
    }
   ],
   "source": [
    "df_encoded"
   ]
  },
  {
   "cell_type": "code",
   "execution_count": 33,
   "id": "bright-ivory",
   "metadata": {},
   "outputs": [],
   "source": [
    "df_encoded.to_csv('encoded_dataset.csv')"
   ]
  },
  {
   "cell_type": "code",
   "execution_count": null,
   "id": "premium-pharmacology",
   "metadata": {},
   "outputs": [],
   "source": []
  }
 ],
 "metadata": {
  "kernelspec": {
   "display_name": "Python 3",
   "language": "python",
   "name": "python3"
  },
  "language_info": {
   "codemirror_mode": {
    "name": "ipython",
    "version": 3
   },
   "file_extension": ".py",
   "mimetype": "text/x-python",
   "name": "python",
   "nbconvert_exporter": "python",
   "pygments_lexer": "ipython3",
   "version": "3.8.7"
  }
 },
 "nbformat": 4,
 "nbformat_minor": 5
}
